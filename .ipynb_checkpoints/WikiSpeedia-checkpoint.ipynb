{
 "cells": [
  {
   "cell_type": "code",
   "execution_count": 89,
   "id": "dfb8e855",
   "metadata": {},
   "outputs": [],
   "source": [
    "import pandas as pd\n",
    "import networkx as nx\n",
    "import urllib as url\n",
    "import matplotlib.pyplot as plt\n",
    "# pip install pandas\n",
    "# pip install networkx"
   ]
  },
  {
   "cell_type": "code",
   "execution_count": 81,
   "id": "d8739f34",
   "metadata": {},
   "outputs": [],
   "source": [
    "edge_file = open(\"wiki_data/links.tsv\", \"rb\")\n",
    "graph = nx.read_edgelist(edge_file)\n",
    "edge_file.close()"
   ]
  },
  {
   "cell_type": "markdown",
   "id": "117aafee",
   "metadata": {},
   "source": [
    "Below we can see that the data is encoded in *some* way. I am not 100% sure if the following cells "
   ]
  },
  {
   "cell_type": "code",
   "execution_count": 82,
   "id": "edf0e9f0",
   "metadata": {},
   "outputs": [
    {
     "data": {
      "text/html": [
       "<div>\n",
       "<style scoped>\n",
       "    .dataframe tbody tr th:only-of-type {\n",
       "        vertical-align: middle;\n",
       "    }\n",
       "\n",
       "    .dataframe tbody tr th {\n",
       "        vertical-align: top;\n",
       "    }\n",
       "\n",
       "    .dataframe thead th {\n",
       "        text-align: right;\n",
       "    }\n",
       "</style>\n",
       "<table border=\"1\" class=\"dataframe\">\n",
       "  <thead>\n",
       "    <tr style=\"text-align: right;\">\n",
       "      <th></th>\n",
       "      <th>Article_Name</th>\n",
       "    </tr>\n",
       "  </thead>\n",
       "  <tbody>\n",
       "    <tr>\n",
       "      <th>0</th>\n",
       "      <td>%C3%81ed%C3%A1n_mac_Gabr%C3%A1in</td>\n",
       "    </tr>\n",
       "    <tr>\n",
       "      <th>1</th>\n",
       "      <td>%C3%85land</td>\n",
       "    </tr>\n",
       "    <tr>\n",
       "      <th>2</th>\n",
       "      <td>%C3%89douard_Manet</td>\n",
       "    </tr>\n",
       "    <tr>\n",
       "      <th>3</th>\n",
       "      <td>%C3%89ire</td>\n",
       "    </tr>\n",
       "    <tr>\n",
       "      <th>4</th>\n",
       "      <td>%C3%93engus_I_of_the_Picts</td>\n",
       "    </tr>\n",
       "  </tbody>\n",
       "</table>\n",
       "</div>"
      ],
      "text/plain": [
       "                       Article_Name\n",
       "0  %C3%81ed%C3%A1n_mac_Gabr%C3%A1in\n",
       "1                        %C3%85land\n",
       "2                %C3%89douard_Manet\n",
       "3                         %C3%89ire\n",
       "4        %C3%93engus_I_of_the_Picts"
      ]
     },
     "execution_count": 82,
     "metadata": {},
     "output_type": "execute_result"
    }
   ],
   "source": [
    "nodes = pd.read_csv('wiki_data/articles.tsv', header=0)\n",
    "nodes.head()"
   ]
  },
  {
   "cell_type": "code",
   "execution_count": 83,
   "id": "47792263",
   "metadata": {},
   "outputs": [
    {
     "data": {
      "text/plain": [
       "50               4th_century\n",
       "51                 55_Cancri\n",
       "52               55_Cancri_b\n",
       "53               55_Cancri_c\n",
       "54               55_Cancri_d\n",
       "55               55_Cancri_e\n",
       "56               5th_century\n",
       "57                     6-2-0\n",
       "58               6th_century\n",
       "59               7th_century\n",
       "60               8th_century\n",
       "61               90377_Sedna\n",
       "62               9th_century\n",
       "63          A._E._J._Collins\n",
       "64    ABO_blood_group_system\n",
       "65                     AC_DC\n",
       "66                      AIDS\n",
       "67                     AK-47\n",
       "68                   ALCO_FA\n",
       "69                     ASCII\n",
       "70                      AT&T\n",
       "71          ATLAS_experiment\n",
       "72         A_Christmas_Carol\n",
       "73           A_Tale_of_a_Tub\n",
       "74         A_Wrinkle_in_Time\n",
       "75                A_cappella\n",
       "76                    Aachen\n",
       "77                  Aardvark\n",
       "78                    Aarhus\n",
       "79                     Abacá\n",
       "Name: Article_Name, dtype: object"
      ]
     },
     "execution_count": 83,
     "metadata": {},
     "output_type": "execute_result"
    }
   ],
   "source": [
    "def format_string(url_str):\n",
    "   return url.parse.unquote(url_str)\n",
    "nodes[\"Article_Name\"] = nodes[\"Article_Name\"].apply(format_string)\n",
    "nodes[\"Article_Name\"][50:80]"
   ]
  },
  {
   "cell_type": "code",
   "execution_count": 84,
   "id": "8e633908",
   "metadata": {},
   "outputs": [],
   "source": [
    "nx.set_node_attributes(graph, nodes.to_dict(), 'ArticleName')"
   ]
  },
  {
   "cell_type": "markdown",
   "id": "391a60e2",
   "metadata": {},
   "source": [
    "Just trying one of the layouts available. Obviously need to clean it up :)"
   ]
  },
  {
   "cell_type": "code",
   "execution_count": 92,
   "id": "528a2c74",
   "metadata": {},
   "outputs": [
    {
     "data": {
      "image/png": "[encoded data removed]",
      "text/plain": [
       "<Figure size 432x288 with 1 Axes>"
      ]
     },
     "metadata": {},
     "output_type": "display_data"
    }
   ],
   "source": [
    "nx.draw_spring(graph)\n",
    "plt.show()"
   ]
  }
 ],
 "metadata": {
  "kernelspec": {
   "display_name": "Python 3 (ipykernel)",
   "language": "python",
   "name": "python3"
  },
  "language_info": {
   "codemirror_mode": {
    "name": "ipython",
    "version": 3
   },
   "file_extension": ".py",
   "mimetype": "text/x-python",
   "name": "python",
   "nbconvert_exporter": "python",
   "pygments_lexer": "ipython3",
   "version": "3.10.4"
  }
 },
 "nbformat": 4,
 "nbformat_minor": 5
}
